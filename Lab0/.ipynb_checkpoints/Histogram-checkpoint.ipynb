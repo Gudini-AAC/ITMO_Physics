{
 "cells": [
  {
   "cell_type": "code",
   "execution_count": 1,
   "metadata": {},
   "outputs": [],
   "source": [
    "import numpy as np\n",
    "import matplotlib.pyplot as plt\n",
    "#%matplotlib"
   ]
  },
  {
   "cell_type": "code",
   "execution_count": 2,
   "metadata": {},
   "outputs": [],
   "source": [
    "data = [float(line) for line in open('data.txt', 'r')]"
   ]
  },
  {
   "cell_type": "code",
   "execution_count": 3,
   "metadata": {
    "scrolled": true
   },
   "outputs": [
    {
     "name": "stdout",
     "output_type": "stream",
     "text": [
      "10 0.1\n"
     ]
    }
   ],
   "source": [
    "columnsCount = int(len(data) ** 0.5)\n",
    "columnWidth = (data[-1] - data[0]) / columnsCount\n",
    "print(columnsCount, columnWidth)"
   ]
  },
  {
   "cell_type": "code",
   "execution_count": 4,
   "metadata": {},
   "outputs": [
    {
     "name": "stdout",
     "output_type": "stream",
     "text": [
      "4.46 4.56 4.66 4.76 4.86 4.96 5.06 5.16 5.26 5.36\n"
     ]
    }
   ],
   "source": [
    "times = [ data[0] + (i + 0.5) * columnWidth for i in range(columnsCount) ]\n",
    "print(*[ \"%0.2f\" % i for i in times ])"
   ]
  },
  {
   "cell_type": "code",
   "execution_count": 23,
   "metadata": {},
   "outputs": [],
   "source": []
  },
  {
   "cell_type": "code",
   "execution_count": 24,
   "metadata": {},
   "outputs": [
    {
     "name": "stdout",
     "output_type": "stream",
     "text": [
      "1 2 6 15 18 21 23 13 6 8\n",
      "0.09 0.18 0.55 1.36 1.64 1.91 2.09 1.18 0.55 0.73\n"
     ]
    }
   ],
   "source": [
    "idx = 0\n",
    "columns = [0] * columnsCount\n",
    "for i in range(columnsCount):\n",
    "    lowerBound = data[0] + columnWidth * i\n",
    "    upperBound = data[0] + columnWidth * (i + 1)\n",
    "    columns[i] = pointsInRange(lowerBound, upperBound)\n",
    "    \n",
    "print(*columns)\n",
    "columns = [ i / (len(data) * columnWidth) for i in columns ]\n",
    "print(*[ \"%0.2f\" % i for i in columns ])"
   ]
  },
  {
   "cell_type": "code",
   "execution_count": 7,
   "metadata": {},
   "outputs": [],
   "source": [
    "average = np.average(data)"
   ]
  },
  {
   "cell_type": "code",
   "execution_count": 8,
   "metadata": {},
   "outputs": [
    {
     "name": "stdout",
     "output_type": "stream",
     "text": [
      "0.2020301916722039 1.9746889175196973\n"
     ]
    }
   ],
   "source": [
    "stdDev = np.std(data)\n",
    "rhoMax = 1 / (stdDev * 2.5066)\n",
    "print(stdDev, rhoMax)"
   ]
  },
  {
   "cell_type": "code",
   "execution_count": 9,
   "metadata": {},
   "outputs": [
    {
     "data": {
      "text/plain": [
       "0.019350982799190425"
      ]
     },
     "execution_count": 9,
     "metadata": {},
     "output_type": "execute_result"
    }
   ],
   "source": [
    "term = 1 / (len(data) * (len(data) - 1))\n",
    "(term * np.sum([ (i - average) ** 2.0 for i in data ])) ** 0.5"
   ]
  },
  {
   "cell_type": "code",
   "execution_count": null,
   "metadata": {},
   "outputs": [],
   "source": [
    "def pointsInRange(lowerBound, upperBound):\n",
    "    cnt = 0\n",
    "    for val in data:\n",
    "        if lowerBound <= val <= upperBound:\n",
    "            cnt += 1\n",
    "    return cnt"
   ]
  },
  {
   "cell_type": "code",
   "execution_count": 10,
   "metadata": {},
   "outputs": [
    {
     "name": "stdout",
     "output_type": "stream",
     "text": [
      "0.67 0.97 1.00\n"
     ]
    }
   ],
   "source": [
    "sigmas = [ pointsInRange(average - i * stdDev, average + i * stdDev)\n",
    "          / len(data) for i in range(1, 4)]\n",
    "print(*[ \"%0.2f\" % i for i in sigmas ])"
   ]
  },
  {
   "cell_type": "code",
   "execution_count": 11,
   "metadata": {},
   "outputs": [],
   "source": [
    "tCoef = 1.981\n",
    "dt = tCoef * stdDev"
   ]
  },
  {
   "cell_type": "code",
   "execution_count": 12,
   "metadata": {},
   "outputs": [
    {
     "name": "stdout",
     "output_type": "stream",
     "text": [
      "0.9727272727272728\n"
     ]
    }
   ],
   "source": [
    "alpha = pointsInRange(average - dt, average + dt) / len(data)\n",
    "print(alpha)"
   ]
  },
  {
   "cell_type": "code",
   "execution_count": 13,
   "metadata": {},
   "outputs": [],
   "source": [
    "xs = np.linspace(data[0], data[-1], 50)\n",
    "ys = rhoMax * np.exp(((xs - average) ** 2.0) / (-2.0 * stdDev ** 2.0))"
   ]
  },
  {
   "cell_type": "code",
   "execution_count": 14,
   "metadata": {},
   "outputs": [
    {
     "data": {
      "image/png": "[encoded data removed]",
      "text/plain": [
       "<Figure size 432x288 with 1 Axes>"
      ]
     },
     "metadata": {
      "needs_background": "light"
     },
     "output_type": "display_data"
    }
   ],
   "source": [
    "plt.plot(xs, ys, '-r')\n",
    "plt.bar(times, columns, width=columnWidth, alpha=0.5)\n",
    "plt.minorticks_on()\n",
    "plt.grid(which=\"major\", color=\"k\", linewidth=0.5, alpha=0.5)\n",
    "plt.grid(which=\"minor\", color=\"k\", linestyle=\":\", linewidth=0.5, alpha=0.5)\n",
    "plt.show()"
   ]
  },
  {
   "cell_type": "code",
   "execution_count": null,
   "metadata": {},
   "outputs": [],
   "source": []
  }
 ],
 "metadata": {
  "kernelspec": {
   "display_name": "Python 3",
   "language": "python",
   "name": "python3"
  },
  "language_info": {
   "codemirror_mode": {
    "name": "ipython",
    "version": 3
   },
   "file_extension": ".py",
   "mimetype": "text/x-python",
   "name": "python",
   "nbconvert_exporter": "python",
   "pygments_lexer": "ipython3",
   "version": "3.7.8"
  }
 },
 "nbformat": 4,
 "nbformat_minor": 4
}
