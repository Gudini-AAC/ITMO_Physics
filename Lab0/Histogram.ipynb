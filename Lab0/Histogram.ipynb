{
 "cells": [
  {
   "cell_type": "code",
   "execution_count": 14,
   "metadata": {},
   "outputs": [
    {
     "name": "stdout",
     "output_type": "stream",
     "text": [
      "Using matplotlib backend: TkAgg\n"
     ]
    }
   ],
   "source": [
    "import numpy as np\n",
    "import matplotlib.pyplot as plt\n",
    "%matplotlib"
   ]
  },
  {
   "cell_type": "code",
   "execution_count": 2,
   "metadata": {},
   "outputs": [],
   "source": [
    "data = [float(line) for line in open('data.txt', 'r')]"
   ]
  },
  {
   "cell_type": "code",
   "execution_count": 3,
   "metadata": {
    "scrolled": true
   },
   "outputs": [
    {
     "name": "stdout",
     "output_type": "stream",
     "text": [
      "10 0.1\n"
     ]
    }
   ],
   "source": [
    "columnsCount = int(len(data) ** 0.5)\n",
    "columnWidth = (data[-1] - data[0]) / columnsCount\n",
    "print(columnsCount, columnWidth)"
   ]
  },
  {
   "cell_type": "code",
   "execution_count": 4,
   "metadata": {},
   "outputs": [
    {
     "name": "stdout",
     "output_type": "stream",
     "text": [
      "4.460 4.560 4.660 4.760 4.860 4.960 5.060 5.160 5.260 5.360\n"
     ]
    }
   ],
   "source": [
    "times = [ data[0] + (i + 0.5) * columnWidth for i in range(columnsCount) ]\n",
    "print(*[ \"%0.3f\" % i for i in times ])"
   ]
  },
  {
   "cell_type": "code",
   "execution_count": 5,
   "metadata": {},
   "outputs": [
    {
     "name": "stdout",
     "output_type": "stream",
     "text": [
      "1 2 6 15 18 18 23 13 6 8\n",
      "0.091 0.182 0.545 1.364 1.636 1.636 2.091 1.182 0.545 0.727\n"
     ]
    }
   ],
   "source": [
    "idx = 0\n",
    "columns = [0] * columnsCount\n",
    "for i in range(columnsCount):\n",
    "    time = data[0] + columnWidth * (i + 1)\n",
    "    while idx < len(data) and data[idx] <= time:\n",
    "        columns[i] += 1\n",
    "        idx += 1\n",
    "    \n",
    "print(*columns)\n",
    "columns = [ i / (len(data) * columnWidth) for i in columns ]\n",
    "print(*[ \"%0.3f\" % i for i in columns ])"
   ]
  },
  {
   "cell_type": "code",
   "execution_count": 6,
   "metadata": {},
   "outputs": [
    {
     "name": "stdout",
     "output_type": "stream",
     "text": [
      "4.983 0.202 1.975\n"
     ]
    }
   ],
   "source": [
    "average = np.average(data)\n",
    "stdDev = np.std(data)\n",
    "rhoMax = 1 / (stdDev * 2.5066)\n",
    "print(*[ \"%0.3f\" % i for i in [average, stdDev, rhoMax] ])"
   ]
  },
  {
   "cell_type": "code",
   "execution_count": 7,
   "metadata": {},
   "outputs": [
    {
     "data": {
      "text/plain": [
       "0.019350982799190425"
      ]
     },
     "execution_count": 7,
     "metadata": {},
     "output_type": "execute_result"
    }
   ],
   "source": [
    "term = 1 / (len(data) * (len(data) - 1))\n",
    "(term * np.sum([ (i - average) ** 2.0 for i in data ])) ** 0.5"
   ]
  },
  {
   "cell_type": "code",
   "execution_count": 8,
   "metadata": {},
   "outputs": [],
   "source": [
    "def pointsInRange(lowerBound, upperBound):\n",
    "    cnt = 0\n",
    "    for val in data:\n",
    "        if lowerBound <= val <= upperBound:\n",
    "            cnt += 1\n",
    "    return cnt"
   ]
  },
  {
   "cell_type": "code",
   "execution_count": 9,
   "metadata": {},
   "outputs": [
    {
     "name": "stdout",
     "output_type": "stream",
     "text": [
      "0.673 0.973 1.000\n"
     ]
    }
   ],
   "source": [
    "sigmas = [ pointsInRange(average - i * stdDev, average + i * stdDev)\n",
    "          / len(data) for i in range(1, 4)]\n",
    "print(*[ \"%0.3f\" % i for i in sigmas ])"
   ]
  },
  {
   "cell_type": "code",
   "execution_count": 10,
   "metadata": {},
   "outputs": [],
   "source": [
    "tCoef = 1.981\n",
    "dt = tCoef * stdDev"
   ]
  },
  {
   "cell_type": "code",
   "execution_count": 11,
   "metadata": {},
   "outputs": [
    {
     "name": "stdout",
     "output_type": "stream",
     "text": [
      "0.9727272727272728\n"
     ]
    }
   ],
   "source": [
    "alpha = pointsInRange(average - dt, average + dt) / len(data)\n",
    "print(alpha)"
   ]
  },
  {
   "cell_type": "code",
   "execution_count": 12,
   "metadata": {},
   "outputs": [],
   "source": [
    "xs = np.linspace(data[0], data[-1], 50)\n",
    "ys = rhoMax * np.exp(((xs - average) ** 2.0) / (-2.0 * stdDev ** 2.0))"
   ]
  },
  {
   "cell_type": "code",
   "execution_count": 15,
   "metadata": {},
   "outputs": [],
   "source": [
    "plt.plot(xs, ys, '-r')\n",
    "plt.bar(times, columns, width=columnWidth, alpha=0.5)\n",
    "plt.minorticks_on()\n",
    "plt.grid(which=\"major\", color=\"k\", linewidth=0.5, alpha=0.5)\n",
    "plt.grid(which=\"minor\", color=\"k\", linestyle=\":\", linewidth=0.5, alpha=0.5)\n",
    "plt.show()"
   ]
  },
  {
   "cell_type": "code",
   "execution_count": null,
   "metadata": {},
   "outputs": [],
   "source": []
  }
 ],
 "metadata": {
  "kernelspec": {
   "display_name": "Python 3",
   "language": "python",
   "name": "python3"
  },
  "language_info": {
   "codemirror_mode": {
    "name": "ipython",
    "version": 3
   },
   "file_extension": ".py",
   "mimetype": "text/x-python",
   "name": "python",
   "nbconvert_exporter": "python",
   "pygments_lexer": "ipython3",
   "version": "3.7.8"
  }
 },
 "nbformat": 4,
 "nbformat_minor": 4
}
