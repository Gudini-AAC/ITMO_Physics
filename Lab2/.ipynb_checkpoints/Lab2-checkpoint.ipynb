{
 "cells": [
  {
   "cell_type": "code",
   "execution_count": 124,
   "metadata": {},
   "outputs": [],
   "source": [
    "import numpy as np\n",
    "np.set_printoptions(precision=4)\n",
    "import matplotlib.pyplot as plt"
   ]
  },
  {
   "cell_type": "code",
   "execution_count": 125,
   "metadata": {},
   "outputs": [],
   "source": [
    "def LoadData(name):\n",
    "    f = open(name)\n",
    "    ret = []\n",
    "    for line in f:\n",
    "        ret.append(np.array([ float(i) for i in line.split() ]))\n",
    "    return ret"
   ]
  },
  {
   "cell_type": "code",
   "execution_count": 126,
   "metadata": {},
   "outputs": [
    {
     "name": "stdout",
     "output_type": "stream",
     "text": [
      "[0.4 1.1 2.5]\n",
      "[0.5 1.1 2.8]\n",
      "[0.7 1.2 3.5]\n",
      "[0.9 1.2 4. ]\n",
      "[1.1 1.2 4.5]\n"
     ]
    }
   ],
   "source": [
    "data = LoadData('data.txt')\n",
    "x1 = 0.15 ##Meters\n",
    "print(*data, sep='\\n')"
   ]
  },
  {
   "cell_type": "code",
   "execution_count": 127,
   "metadata": {},
   "outputs": [
    {
     "name": "stdout",
     "output_type": "stream",
     "text": [
      "[0.25 0.35 0.55 0.75 0.95]\n",
      "[2.52  3.315 5.405 7.28  9.405]\n"
     ]
    }
   ],
   "source": [
    "Ys = np.array([ i[0] - x1 for i in data ])\n",
    "Zs = np.array([ 0.5 * (i[2] ** 2 - i[1] ** 2) for i in data ])\n",
    "print(Ys, Zs, sep='\\n')"
   ]
  },
  {
   "cell_type": "code",
   "execution_count": 128,
   "metadata": {},
   "outputs": [],
   "source": [
    "def LeastSquares(xs, ys):\n",
    "    A = np.array([ [i, 1] for i in xs ])\n",
    "    return np.linalg.lstsq(A, ys, rcond=None)[0]"
   ]
  },
  {
   "cell_type": "code",
   "execution_count": 129,
   "metadata": {},
   "outputs": [
    {
     "name": "stdout",
     "output_type": "stream",
     "text": [
      "0.101\n"
     ]
    }
   ],
   "source": [
    "[a, _] = LeastSquares(Zs, Ys)\n",
    "print('%.3f' % a)"
   ]
  },
  {
   "cell_type": "code",
   "execution_count": 130,
   "metadata": {},
   "outputs": [
    {
     "data": {
      "image/png": "[encoded data removed]",
      "text/plain": [
       "<Figure size 432x288 with 1 Axes>"
      ]
     },
     "metadata": {
      "needs_background": "light"
     },
     "output_type": "display_data"
    }
   ],
   "source": [
    "plt.plot(Zs, Ys, '--b', label='data')\n",
    "plt.plot([ Zs[0], Zs[-1] ], [ a * Zs[0], a * Zs[-1] ], 'r', label='approximation')\n",
    "plt.legend()\n",
    "plt.minorticks_on()\n",
    "plt.grid(which=\"major\", color=\"k\", linewidth=0.5, alpha=0.5)\n",
    "plt.grid(which=\"minor\", color=\"k\", linestyle=\":\", linewidth=0.5, alpha=0.5)"
   ]
  },
  {
   "cell_type": "code",
   "execution_count": 131,
   "metadata": {},
   "outputs": [],
   "source": [
    "x       = 0.22  ##Meters\n",
    "xPrime  = 1.0   ##Meters\n",
    "h0      = 0.2   ##Meters\n",
    "h0Prime = 0.193 ##Meters"
   ]
  },
  {
   "cell_type": "code",
   "execution_count": 132,
   "metadata": {},
   "outputs": [
    {
     "name": "stdout",
     "output_type": "stream",
     "text": [
      "[0.191 0.197]\n",
      "[0.181 0.196]\n",
      "[0.172 0.195]\n",
      "[0.167 0.199]\n",
      "[0.155 0.2  ]\n"
     ]
    }
   ],
   "source": [
    "hights = LoadData('h.txt')\n",
    "print(*hights, sep='\\n')"
   ]
  },
  {
   "cell_type": "code",
   "execution_count": 133,
   "metadata": {},
   "outputs": [
    {
     "name": "stdout",
     "output_type": "stream",
     "text": [
      "[0.0167 0.0282 0.0385 0.05   0.0667]\n"
     ]
    }
   ],
   "source": [
    "k = 1 / (xPrime - x)\n",
    "sins = np.array([ ((h0 - i[0]) - (h0Prime - i[1])) * k for i in hights ])\n",
    "print(sins)"
   ]
  },
  {
   "cell_type": "code",
   "execution_count": 134,
   "metadata": {},
   "outputs": [
    {
     "name": "stdout",
     "output_type": "stream",
     "text": [
      "[[1.1 1.3 1.2 1.2 1.1]\n",
      " [0.9 0.9 0.9 0.8 0.9]\n",
      " [0.7 0.7 0.7 0.7 0.7]\n",
      " [0.6 0.6 0.6 0.6 0.6]\n",
      " [0.5 0.5 0.6 0.5 0.6]]\n",
      "\n",
      "[[4.3 4.5 4.5 4.5 4.3]\n",
      " [3.2 3.1 3.2 3.  3.2]\n",
      " [2.6 2.6 2.5 2.6 2.5]\n",
      " [2.2 2.2 2.2 2.2 2.2]\n",
      " [1.9 1.8 1.9 1.9 1.8]]\n"
     ]
    }
   ],
   "source": [
    "times = np.array([ LoadData('t_one.txt'), LoadData('t_two.txt') ])\n",
    "print(times[0], times[1], sep='\\n\\n')"
   ]
  },
  {
   "cell_type": "code",
   "execution_count": 135,
   "metadata": {},
   "outputs": [
    {
     "name": "stdout",
     "output_type": "stream",
     "text": [
      "[1.18 0.88 0.7  0.6  0.54]\n",
      "[4.42 3.14 2.56 2.2  1.86]\n"
     ]
    }
   ],
   "source": [
    "x1 = 0.15 ##Meters\n",
    "x2 = 1.10 ##Meters\n",
    "\n",
    "t1 = np.array([ np.mean(i) for i in times[0] ])\n",
    "t2 = np.array([ np.mean(i) for i in times[1] ])\n",
    "\n",
    "print(t1, t2, sep='\\n')"
   ]
  },
  {
   "cell_type": "code",
   "execution_count": 136,
   "metadata": {
    "scrolled": true
   },
   "outputs": [
    {
     "name": "stdout",
     "output_type": "stream",
     "text": [
      "[0.1047 0.2091 0.3133 0.4241 0.5997]\n"
     ]
    }
   ],
   "source": [
    "a = 2 * (x2 - x1) / (t2 ** 2 - t1 ** 2)\n",
    "print(a)"
   ]
  },
  {
   "cell_type": "code",
   "execution_count": 137,
   "metadata": {},
   "outputs": [
    {
     "name": "stdout",
     "output_type": "stream",
     "text": [
      "9.91433821142701 -0.0663637339368152\n"
     ]
    }
   ],
   "source": [
    "[g, k] = LeastSquares(sins, a)\n",
    "print(g, k)"
   ]
  },
  {
   "cell_type": "code",
   "execution_count": 138,
   "metadata": {
    "scrolled": true
   },
   "outputs": [
    {
     "data": {
      "image/png": "[encoded data removed]",
      "text/plain": [
       "<Figure size 432x288 with 1 Axes>"
      ]
     },
     "metadata": {
      "needs_background": "light"
     },
     "output_type": "display_data"
    }
   ],
   "source": [
    "plt.plot(sins, a, '--b', label='data')\n",
    "plt.plot([ sins[0], sins[-1] ], [ g * sins[0] + k, g * sins[-1] + k ], 'r', alpha=0.7, label='approximation')\n",
    "plt.legend()\n",
    "plt.minorticks_on()\n",
    "plt.grid(which=\"major\", color=\"k\", linewidth=0.5, alpha=0.5)\n",
    "plt.grid(which=\"minor\", color=\"k\", linestyle=\":\", linewidth=0.5, alpha=0.5)"
   ]
  }
 ],
 "metadata": {
  "kernelspec": {
   "display_name": "Python 3",
   "language": "python",
   "name": "python3"
  },
  "language_info": {
   "codemirror_mode": {
    "name": "ipython",
    "version": 3
   },
   "file_extension": ".py",
   "mimetype": "text/x-python",
   "name": "python",
   "nbconvert_exporter": "python",
   "pygments_lexer": "ipython3",
   "version": "3.7.8"
  }
 },
 "nbformat": 4,
 "nbformat_minor": 4
}
